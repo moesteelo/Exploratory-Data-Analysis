{
 "cells": [
  {
   "cell_type": "markdown",
   "id": "5ab7df65",
   "metadata": {},
   "source": [
    "# Scrutinize the data"
   ]
  },
  {
   "cell_type": "code",
   "execution_count": 1,
   "id": "17f0deab",
   "metadata": {},
   "outputs": [
    {
     "data": {
      "text/html": [
       "<div>\n",
       "<style scoped>\n",
       "    .dataframe tbody tr th:only-of-type {\n",
       "        vertical-align: middle;\n",
       "    }\n",
       "\n",
       "    .dataframe tbody tr th {\n",
       "        vertical-align: top;\n",
       "    }\n",
       "\n",
       "    .dataframe thead th {\n",
       "        text-align: right;\n",
       "    }\n",
       "</style>\n",
       "<table border=\"1\" class=\"dataframe\">\n",
       "  <thead>\n",
       "    <tr style=\"text-align: right;\">\n",
       "      <th></th>\n",
       "      <th>species</th>\n",
       "      <th>island</th>\n",
       "      <th>culmen_length_mm</th>\n",
       "      <th>culmen_depth_mm</th>\n",
       "      <th>flipper_length_mm</th>\n",
       "      <th>body_mass_g</th>\n",
       "      <th>sex</th>\n",
       "    </tr>\n",
       "  </thead>\n",
       "  <tbody>\n",
       "    <tr>\n",
       "      <th>0</th>\n",
       "      <td>Adelie</td>\n",
       "      <td>Torgersen</td>\n",
       "      <td>39.1</td>\n",
       "      <td>18.7</td>\n",
       "      <td>181.0</td>\n",
       "      <td>3750.0</td>\n",
       "      <td>MALE</td>\n",
       "    </tr>\n",
       "    <tr>\n",
       "      <th>1</th>\n",
       "      <td>Adelie</td>\n",
       "      <td>Torgersen</td>\n",
       "      <td>39.5</td>\n",
       "      <td>17.4</td>\n",
       "      <td>186.0</td>\n",
       "      <td>3800.0</td>\n",
       "      <td>FEMALE</td>\n",
       "    </tr>\n",
       "    <tr>\n",
       "      <th>2</th>\n",
       "      <td>Adelie</td>\n",
       "      <td>Torgersen</td>\n",
       "      <td>40.3</td>\n",
       "      <td>18.0</td>\n",
       "      <td>195.0</td>\n",
       "      <td>3250.0</td>\n",
       "      <td>FEMALE</td>\n",
       "    </tr>\n",
       "    <tr>\n",
       "      <th>3</th>\n",
       "      <td>Adelie</td>\n",
       "      <td>Torgersen</td>\n",
       "      <td>NaN</td>\n",
       "      <td>NaN</td>\n",
       "      <td>NaN</td>\n",
       "      <td>NaN</td>\n",
       "      <td>NaN</td>\n",
       "    </tr>\n",
       "    <tr>\n",
       "      <th>4</th>\n",
       "      <td>Adelie</td>\n",
       "      <td>Torgersen</td>\n",
       "      <td>36.7</td>\n",
       "      <td>19.3</td>\n",
       "      <td>193.0</td>\n",
       "      <td>3450.0</td>\n",
       "      <td>FEMALE</td>\n",
       "    </tr>\n",
       "  </tbody>\n",
       "</table>\n",
       "</div>"
      ],
      "text/plain": [
       "  species     island  culmen_length_mm  culmen_depth_mm  flipper_length_mm  \\\n",
       "0  Adelie  Torgersen              39.1             18.7              181.0   \n",
       "1  Adelie  Torgersen              39.5             17.4              186.0   \n",
       "2  Adelie  Torgersen              40.3             18.0              195.0   \n",
       "3  Adelie  Torgersen               NaN              NaN                NaN   \n",
       "4  Adelie  Torgersen              36.7             19.3              193.0   \n",
       "\n",
       "   body_mass_g     sex  \n",
       "0       3750.0    MALE  \n",
       "1       3800.0  FEMALE  \n",
       "2       3250.0  FEMALE  \n",
       "3          NaN     NaN  \n",
       "4       3450.0  FEMALE  "
      ]
     },
     "execution_count": 1,
     "metadata": {},
     "output_type": "execute_result"
    }
   ],
   "source": [
    "import pandas as pd\n",
    "import numpy as np \n",
    "import seaborn as sns\n",
    "import matplotlib.pyplot as plt\n",
    "import warnings\n",
    "warnings.filterwarnings('ignore')\n",
    "#Loading the dataset\n",
    "penguins_size = pd.read_csv('Data Resources/penguins_size.csv', sep = \",\")\n",
    "penguins_size.head()"
   ]
  },
  {
   "cell_type": "code",
   "execution_count": 2,
   "id": "03da2af7",
   "metadata": {},
   "outputs": [
    {
     "name": "stdout",
     "output_type": "stream",
     "text": [
      "1.16.5\n"
     ]
    }
   ],
   "source": [
    "import numpy as np\n",
    "print(np.__version__)"
   ]
  },
  {
   "cell_type": "code",
   "execution_count": 3,
   "id": "84632660",
   "metadata": {},
   "outputs": [
    {
     "name": "stdout",
     "output_type": "stream",
     "text": [
      "Shape is:  (344, 7)\n"
     ]
    }
   ],
   "source": [
    "print(\"Shape is: \", penguins_size.shape)"
   ]
  },
  {
   "cell_type": "code",
   "execution_count": 4,
   "id": "919017cc",
   "metadata": {},
   "outputs": [
    {
     "data": {
      "text/plain": [
       "species               object\n",
       "island                object\n",
       "culmen_length_mm     float64\n",
       "culmen_depth_mm      float64\n",
       "flipper_length_mm    float64\n",
       "body_mass_g          float64\n",
       "sex                   object\n",
       "dtype: object"
      ]
     },
     "execution_count": 4,
     "metadata": {},
     "output_type": "execute_result"
    }
   ],
   "source": [
    "# Visualize the data types using the features info() function\n",
    "\n",
    "penguins_size.dtypes"
   ]
  },
  {
   "cell_type": "markdown",
   "id": "3d8ad700",
   "metadata": {},
   "source": [
    "# Data Cleaning "
   ]
  },
  {
   "cell_type": "code",
   "execution_count": 5,
   "id": "ae874715",
   "metadata": {},
   "outputs": [
    {
     "data": {
      "text/plain": [
       "species               0\n",
       "island                0\n",
       "culmen_length_mm      2\n",
       "culmen_depth_mm       2\n",
       "flipper_length_mm     2\n",
       "body_mass_g           2\n",
       "sex                  10\n",
       "dtype: int64"
      ]
     },
     "execution_count": 5,
     "metadata": {},
     "output_type": "execute_result"
    }
   ],
   "source": [
    "penguins_size.isnull().sum()"
   ]
  },
  {
   "cell_type": "code",
   "execution_count": 6,
   "id": "03702a01",
   "metadata": {},
   "outputs": [],
   "source": [
    "penguins_size[\"culmen_length_mm\"] = penguins_size[\"culmen_length_mm\"].fillna(value = penguins_size[\"culmen_length_mm\"].mean())\n",
    "penguins_size[\"culmen_depth_mm\"] = penguins_size[\"culmen_depth_mm\"].fillna(value = penguins_size[\"culmen_depth_mm\"].mean())\n",
    "penguins_size[\"flipper_length_mm\"] = penguins_size[\"flipper_length_mm\"].fillna(value = penguins_size[\"flipper_length_mm\"].mean())\n",
    "penguins_size[\"body_mass_g\"] = penguins_size[\"body_mass_g\"].fillna(value = penguins_size[\"body_mass_g\"].mean())"
   ]
  },
  {
   "cell_type": "code",
   "execution_count": 7,
   "id": "ee0541d0",
   "metadata": {},
   "outputs": [
    {
     "data": {
      "text/plain": [
       "MALE      168\n",
       "FEMALE    165\n",
       ".           1\n",
       "Name: sex, dtype: int64"
      ]
     },
     "execution_count": 7,
     "metadata": {},
     "output_type": "execute_result"
    }
   ],
   "source": [
    "# Imputing the missing values with the mean of the corresponding features \n",
    "penguins_size[\"sex\"].value_counts()"
   ]
  },
  {
   "cell_type": "code",
   "execution_count": 8,
   "id": "be046417",
   "metadata": {},
   "outputs": [],
   "source": [
    "# Substituting the NaN values using the 'Male'\n",
    "penguins_size['sex'] = penguins_size['sex'].fillna('MALE')"
   ]
  },
  {
   "cell_type": "code",
   "execution_count": 9,
   "id": "2e522360",
   "metadata": {},
   "outputs": [
    {
     "data": {
      "text/plain": [
       "species              0\n",
       "island               0\n",
       "culmen_length_mm     0\n",
       "culmen_depth_mm      0\n",
       "flipper_length_mm    0\n",
       "body_mass_g          0\n",
       "sex                  0\n",
       "dtype: int64"
      ]
     },
     "execution_count": 9,
     "metadata": {},
     "output_type": "execute_result"
    }
   ],
   "source": [
    "# Dropping all NaN Values in the Penguins Data Frame \n",
    "penguins_size.drop(axis = 0, inplace = True, index = 336)\n",
    "penguins_size = penguins_size.dropna(axis = 0, how ='any') \n",
    "penguins_size.isna().sum()"
   ]
  },
  {
   "cell_type": "code",
   "execution_count": 10,
   "id": "9464d08a",
   "metadata": {},
   "outputs": [
    {
     "name": "stdout",
     "output_type": "stream",
     "text": [
      "0\n"
     ]
    }
   ],
   "source": [
    "# Checking if there is any duplicate rows \n",
    "duplicated = penguins_size.duplicated()\n",
    "print(duplicated.sum())\n"
   ]
  },
  {
   "cell_type": "code",
   "execution_count": 11,
   "id": "24457727",
   "metadata": {},
   "outputs": [
    {
     "name": "stdout",
     "output_type": "stream",
     "text": [
      "<class 'pandas.core.frame.DataFrame'>\n",
      "Int64Index: 343 entries, 0 to 343\n",
      "Data columns (total 7 columns):\n",
      "species              343 non-null object\n",
      "island               343 non-null object\n",
      "culmen_length_mm     343 non-null float64\n",
      "culmen_depth_mm      343 non-null float64\n",
      "flipper_length_mm    343 non-null float64\n",
      "body_mass_g          343 non-null float64\n",
      "sex                  343 non-null object\n",
      "dtypes: float64(4), object(3)\n",
      "memory usage: 21.4+ KB\n"
     ]
    }
   ],
   "source": [
    "penguins_size.info()"
   ]
  },
  {
   "cell_type": "markdown",
   "id": "507fa2d6",
   "metadata": {},
   "source": [
    "# Statistical Insights"
   ]
  },
  {
   "cell_type": "code",
   "execution_count": 12,
   "id": "660e885c",
   "metadata": {},
   "outputs": [
    {
     "data": {
      "text/html": [
       "<div>\n",
       "<style scoped>\n",
       "    .dataframe tbody tr th:only-of-type {\n",
       "        vertical-align: middle;\n",
       "    }\n",
       "\n",
       "    .dataframe tbody tr th {\n",
       "        vertical-align: top;\n",
       "    }\n",
       "\n",
       "    .dataframe thead th {\n",
       "        text-align: right;\n",
       "    }\n",
       "</style>\n",
       "<table border=\"1\" class=\"dataframe\">\n",
       "  <thead>\n",
       "    <tr style=\"text-align: right;\">\n",
       "      <th></th>\n",
       "      <th>culmen_length_mm</th>\n",
       "      <th>culmen_depth_mm</th>\n",
       "      <th>flipper_length_mm</th>\n",
       "      <th>body_mass_g</th>\n",
       "    </tr>\n",
       "  </thead>\n",
       "  <tbody>\n",
       "    <tr>\n",
       "      <th>count</th>\n",
       "      <td>343.000000</td>\n",
       "      <td>343.000000</td>\n",
       "      <td>343.000000</td>\n",
       "      <td>343.000000</td>\n",
       "    </tr>\n",
       "    <tr>\n",
       "      <th>mean</th>\n",
       "      <td>43.920244</td>\n",
       "      <td>17.155400</td>\n",
       "      <td>200.868310</td>\n",
       "      <td>4199.791571</td>\n",
       "    </tr>\n",
       "    <tr>\n",
       "      <th>std</th>\n",
       "      <td>5.451506</td>\n",
       "      <td>1.970337</td>\n",
       "      <td>14.014098</td>\n",
       "      <td>799.950869</td>\n",
       "    </tr>\n",
       "    <tr>\n",
       "      <th>min</th>\n",
       "      <td>32.100000</td>\n",
       "      <td>13.100000</td>\n",
       "      <td>172.000000</td>\n",
       "      <td>2700.000000</td>\n",
       "    </tr>\n",
       "    <tr>\n",
       "      <th>25%</th>\n",
       "      <td>39.250000</td>\n",
       "      <td>15.600000</td>\n",
       "      <td>190.000000</td>\n",
       "      <td>3550.000000</td>\n",
       "    </tr>\n",
       "    <tr>\n",
       "      <th>50%</th>\n",
       "      <td>44.100000</td>\n",
       "      <td>17.300000</td>\n",
       "      <td>197.000000</td>\n",
       "      <td>4050.000000</td>\n",
       "    </tr>\n",
       "    <tr>\n",
       "      <th>75%</th>\n",
       "      <td>48.500000</td>\n",
       "      <td>18.700000</td>\n",
       "      <td>213.000000</td>\n",
       "      <td>4750.000000</td>\n",
       "    </tr>\n",
       "    <tr>\n",
       "      <th>max</th>\n",
       "      <td>59.600000</td>\n",
       "      <td>21.500000</td>\n",
       "      <td>231.000000</td>\n",
       "      <td>6300.000000</td>\n",
       "    </tr>\n",
       "  </tbody>\n",
       "</table>\n",
       "</div>"
      ],
      "text/plain": [
       "       culmen_length_mm  culmen_depth_mm  flipper_length_mm  body_mass_g\n",
       "count        343.000000       343.000000         343.000000   343.000000\n",
       "mean          43.920244        17.155400         200.868310  4199.791571\n",
       "std            5.451506         1.970337          14.014098   799.950869\n",
       "min           32.100000        13.100000         172.000000  2700.000000\n",
       "25%           39.250000        15.600000         190.000000  3550.000000\n",
       "50%           44.100000        17.300000         197.000000  4050.000000\n",
       "75%           48.500000        18.700000         213.000000  4750.000000\n",
       "max           59.600000        21.500000         231.000000  6300.000000"
      ]
     },
     "execution_count": 12,
     "metadata": {},
     "output_type": "execute_result"
    }
   ],
   "source": [
    "# Providing a statistical analysis on the Penguins DF\n",
    "penguins_size.describe()"
   ]
  },
  {
   "cell_type": "code",
   "execution_count": 13,
   "id": "3e71eef2",
   "metadata": {},
   "outputs": [
    {
     "data": {
      "text/plain": [
       "Adelie       152\n",
       "Gentoo       123\n",
       "Chinstrap     68\n",
       "Name: species, dtype: int64"
      ]
     },
     "execution_count": 13,
     "metadata": {},
     "output_type": "execute_result"
    }
   ],
   "source": [
    "penguins_size['species'].value_counts()"
   ]
  },
  {
   "cell_type": "code",
   "execution_count": 14,
   "id": "3f3d99e8",
   "metadata": {},
   "outputs": [
    {
     "data": {
      "text/plain": [
       "species\n",
       "Adelie       3703.958910\n",
       "Chinstrap    3733.088235\n",
       "Gentoo       5070.542719\n",
       "Name: body_mass_g, dtype: float64"
      ]
     },
     "execution_count": 14,
     "metadata": {},
     "output_type": "execute_result"
    }
   ],
   "source": [
    "# Find body mass mean for each species.\n",
    "mean_bodymass = penguins_size.groupby('species')['body_mass_g'].mean()\n",
    "mean_bodymass"
   ]
  },
  {
   "cell_type": "markdown",
   "id": "f6904043",
   "metadata": {},
   "source": [
    "## Categorization of the dataset "
   ]
  },
  {
   "cell_type": "code",
   "execution_count": 24,
   "id": "89c737ae",
   "metadata": {},
   "outputs": [
    {
     "name": "stdout",
     "output_type": "stream",
     "text": [
      "These are the categorical features: ['species', 'island', 'sex']\n",
      "\n",
      "These are the Numerical features: ['culmen_length_mm', 'culmen_depth_mm', 'flipper_length_mm', 'body_mass_g']\n"
     ]
    }
   ],
   "source": [
    "categorical_features = [col for col in penguins_size.columns if penguins_size[col].dtype=='O']\n",
    "numerical_features = [col for col in penguins_size.columns if penguins_size[col].dtype!='O']\n",
    "print(\"These are the categorical features:\",categorical_features)\n",
    "print()\n",
    "print(\"These are the Numerical features:\",numerical_features)"
   ]
  },
  {
   "cell_type": "code",
   "execution_count": 25,
   "id": "db62d258",
   "metadata": {},
   "outputs": [
    {
     "data": {
      "text/plain": [
       "Adelie       152\n",
       "Gentoo       123\n",
       "Chinstrap     68\n",
       "Name: species, dtype: int64"
      ]
     },
     "execution_count": 25,
     "metadata": {},
     "output_type": "execute_result"
    }
   ],
   "source": [
    "penguins_size['species'].value_counts()"
   ]
  },
  {
   "cell_type": "code",
   "execution_count": 26,
   "id": "62b69cb2",
   "metadata": {},
   "outputs": [
    {
     "data": {
      "text/plain": [
       "species\n",
       "Adelie       3703.958910\n",
       "Chinstrap    3733.088235\n",
       "Gentoo       5070.542719\n",
       "Name: body_mass_g, dtype: float64"
      ]
     },
     "execution_count": 26,
     "metadata": {},
     "output_type": "execute_result"
    }
   ],
   "source": [
    "# Find body mass mean by species.\n",
    "mean_bodymass = penguins_size.groupby('species')['body_mass_g'].mean()\n",
    "mean_bodymass"
   ]
  },
  {
   "cell_type": "code",
   "execution_count": 27,
   "id": "c8994bf5",
   "metadata": {},
   "outputs": [
    {
     "data": {
      "text/plain": [
       "species\n",
       "Adelie       38.825144\n",
       "Chinstrap    48.833824\n",
       "Gentoo       47.500178\n",
       "Name: culmen_length_mm, dtype: float64"
      ]
     },
     "execution_count": 27,
     "metadata": {},
     "output_type": "execute_result"
    }
   ],
   "source": [
    "# Find culmen_length_mm mean by species.\n",
    "mean_culmen_length_mm = penguins_size.groupby('species')['culmen_length_mm'].mean()\n",
    "mean_culmen_length_mm"
   ]
  },
  {
   "cell_type": "code",
   "execution_count": 28,
   "id": "9b25db79",
   "metadata": {},
   "outputs": [
    {
     "data": {
      "text/plain": [
       "species\n",
       "Adelie       190.025758\n",
       "Chinstrap    195.823529\n",
       "Gentoo       217.056221\n",
       "Name: flipper_length_mm, dtype: float64"
      ]
     },
     "execution_count": 28,
     "metadata": {},
     "output_type": "execute_result"
    }
   ],
   "source": [
    "# Find flipper_length_mm mean by species.\n",
    "mean_flipper_length_mm = penguins_size.groupby('species')['flipper_length_mm'].mean()\n",
    "mean_flipper_length_mm"
   ]
  },
  {
   "cell_type": "code",
   "execution_count": 29,
   "id": "356a93de",
   "metadata": {},
   "outputs": [
    {
     "data": {
      "text/plain": [
       "species\n",
       "Adelie       18.338495\n",
       "Chinstrap    18.420588\n",
       "Gentoo       14.993912\n",
       "Name: culmen_depth_mm, dtype: float64"
      ]
     },
     "execution_count": 29,
     "metadata": {},
     "output_type": "execute_result"
    }
   ],
   "source": [
    "# Find culmen_depth_mm mean by species.\n",
    "mean_culmen_depth_mm = penguins_size.groupby('species')['culmen_depth_mm'].mean()\n",
    "mean_culmen_depth_mm"
   ]
  },
  {
   "cell_type": "markdown",
   "id": "61408fee",
   "metadata": {},
   "source": [
    "# Data Visualization"
   ]
  },
  {
   "cell_type": "markdown",
   "id": "f613af44",
   "metadata": {},
   "source": [
    "## Boxplot"
   ]
  },
  {
   "cell_type": "code",
   "execution_count": 15,
   "id": "cb37bf79",
   "metadata": {},
   "outputs": [
    {
     "data": {
      "image/png": "[encoded data removed]",
      "text/plain": [
       "<Figure size 360x576 with 1 Axes>"
      ]
     },
     "metadata": {
      "needs_background": "light"
     },
     "output_type": "display_data"
    }
   ],
   "source": [
    "#Relationship of the culmen length and sex of the penguins.\n",
    "\n",
    "fig = plt.figure(figsize=(5,8))\n",
    "ax= sns.boxplot(x = penguins_size.sex, y=penguins_size['culmen_length_mm'],orient=\"v\", palette = \"cividis\")\n",
    "plt.title('Culmen_length_mm')\n",
    "plt.show()"
   ]
  },
  {
   "cell_type": "markdown",
   "id": "ae405324",
   "metadata": {},
   "source": [
    "## Histogram"
   ]
  },
  {
   "cell_type": "code",
   "execution_count": 16,
   "id": "3fea040b",
   "metadata": {},
   "outputs": [
    {
     "data": {
      "image/png": "[encoded data removed]",
      "text/plain": [
       "<Figure size 1440x432 with 4 Axes>"
      ]
     },
     "metadata": {
      "needs_background": "light"
     },
     "output_type": "display_data"
    }
   ],
   "source": [
    "#Shows us frequency distribution.\n",
    "\n",
    "fig,axs = plt.subplots(1,4,figsize=(20,6))\n",
    "axs[0].hist(penguins_size.culmen_depth_mm)\n",
    "axs[0].set_title('culmen_depth_mm')\n",
    "axs[0].set_ylabel('Frequency')\n",
    "axs[1].hist(penguins_size.culmen_length_mm)\n",
    "axs[1].set_title('culmen_length_mm')\n",
    "axs[2].hist(penguins_size.flipper_length_mm)\n",
    "axs[2].set_title('flipper_length_mm')\n",
    "axs[3].hist(penguins_size.body_mass_g)\n",
    "axs[3].set_title('body_mass_g')\n",
    "plt.show()\n"
   ]
  },
  {
   "cell_type": "markdown",
   "id": "c56e915e",
   "metadata": {},
   "source": [
    "## Kdeplot"
   ]
  },
  {
   "cell_type": "code",
   "execution_count": 17,
   "id": "89f91d4b",
   "metadata": {},
   "outputs": [
    {
     "data": {
      "image/png": "[encoded data removed]",
      "text/plain": [
       "<Figure size 432x288 with 1 Axes>"
      ]
     },
     "metadata": {
      "needs_background": "light"
     },
     "output_type": "display_data"
    }
   ],
   "source": [
    "#Used for visualizing the probability density of a continuous var.\n",
    "\n",
    "sns.kdeplot(penguins_size.flipper_length_mm,color='red')\n",
    "plt.show()"
   ]
  },
  {
   "cell_type": "markdown",
   "id": "a286b26e",
   "metadata": {},
   "source": [
    "# Bar Plot"
   ]
  },
  {
   "cell_type": "code",
   "execution_count": 18,
   "id": "849fc8ba",
   "metadata": {},
   "outputs": [
    {
     "data": {
      "image/png": "[encoded data removed]",
      "text/plain": [
       "<Figure size 576x360 with 1 Axes>"
      ]
     },
     "metadata": {
      "needs_background": "light"
     },
     "output_type": "display_data"
    }
   ],
   "source": [
    "# Bar Plot\n",
    "\n",
    "plt.figure(figsize=(8,5))\n",
    "colors = [\"cyan\",\"lightblue\", \"darkblue\"]\n",
    "sns.barplot(x =penguins_size['island'],\n",
    "y = penguins_size['body_mass_g'], palette = colors)\n",
    "plt.title('Body Mass of Penguins for different Islands')\n",
    "plt.show()\n"
   ]
  },
  {
   "cell_type": "markdown",
   "id": "37b9b524",
   "metadata": {},
   "source": [
    "# Crosstab"
   ]
  },
  {
   "cell_type": "code",
   "execution_count": 19,
   "id": "bfcd0de5",
   "metadata": {},
   "outputs": [
    {
     "data": {
      "image/png": "[encoded data removed]",
      "text/plain": [
       "<Figure size 432x288 with 1 Axes>"
      ]
     },
     "metadata": {
      "needs_background": "light"
     },
     "output_type": "display_data"
    }
   ],
   "source": [
    "# Using Crosstab\n",
    "pd.crosstab(penguins_size['island'], penguins_size['species']).plot.bar(color=('DarkBlue', 'LightBlue', 'Teal'))\n",
    "plt.tight_layout()"
   ]
  },
  {
   "cell_type": "markdown",
   "id": "c5f9fcdb",
   "metadata": {},
   "source": [
    "# Count Plot"
   ]
  },
  {
   "cell_type": "code",
   "execution_count": 20,
   "id": "3ba8f045",
   "metadata": {},
   "outputs": [
    {
     "data": {
      "image/png": "[encoded data removed]",
      "text/plain": [
       "<Figure size 432x288 with 1 Axes>"
      ]
     },
     "metadata": {
      "needs_background": "light"
     },
     "output_type": "display_data"
    }
   ],
   "source": [
    "# Count Plot\n",
    "sns.countplot('species', data=penguins_size, palette =\"Oranges\")\n",
    "plt.show()"
   ]
  },
  {
   "cell_type": "markdown",
   "id": "f66dd9d9",
   "metadata": {},
   "source": [
    "# Violin Plot "
   ]
  },
  {
   "cell_type": "code",
   "execution_count": 21,
   "id": "9416f170",
   "metadata": {},
   "outputs": [
    {
     "data": {
      "text/plain": [
       "Text(0.5, 1.0, 'Violin Plot')"
      ]
     },
     "execution_count": 21,
     "metadata": {},
     "output_type": "execute_result"
    },
    {
     "data": {
      "image/png": "[encoded data removed]",
      "text/plain": [
       "<Figure size 432x288 with 1 Axes>"
      ]
     },
     "metadata": {
      "needs_background": "light"
     },
     "output_type": "display_data"
    }
   ],
   "source": [
    "# Using the Violin Plot \n",
    "sns.violinplot(x = 'island', y = 'body_mass_g', data = penguins_size, palette='YlOrRd_r')\n",
    "plt.title(\"Violin Plot\")"
   ]
  },
  {
   "cell_type": "markdown",
   "id": "25b0fc24",
   "metadata": {},
   "source": [
    "# Correlation Matrix"
   ]
  },
  {
   "cell_type": "code",
   "execution_count": 22,
   "id": "41d204fe",
   "metadata": {},
   "outputs": [
    {
     "data": {
      "image/png": "[encoded data removed]",
      "text/plain": [
       "<Figure size 576x576 with 2 Axes>"
      ]
     },
     "metadata": {
      "needs_background": "light"
     },
     "output_type": "display_data"
    }
   ],
   "source": [
    "# Correlation Matrix\n",
    "corr = penguins_size.corr()\n",
    "plt.figure(figsize=(8,8))\n",
    "sns.heatmap(corr, annot = True, cmap = \"PuBu\")\n",
    "plt.title('Correlation Matrix')\n",
    "plt.show()"
   ]
  },
  {
   "cell_type": "code",
   "execution_count": 23,
   "id": "fa4242a9",
   "metadata": {},
   "outputs": [
    {
     "data": {
      "text/plain": [
       "<AxesSubplot:>"
      ]
     },
     "execution_count": 23,
     "metadata": {},
     "output_type": "execute_result"
    },
    {
     "data": {
      "image/png": "[encoded data removed]",
      "text/plain": [
       "<Figure size 432x288 with 2 Axes>"
      ]
     },
     "metadata": {
      "needs_background": "light"
     },
     "output_type": "display_data"
    }
   ],
   "source": [
    "sns.heatmap(corr[(corr > 0.8)],annot = True, cmap=\"viridis\")"
   ]
  },
  {
   "cell_type": "code",
   "execution_count": null,
   "id": "c1d21344",
   "metadata": {},
   "outputs": [],
   "source": []
  }
 ],
 "metadata": {
  "kernelspec": {
   "display_name": "PythonData",
   "language": "python",
   "name": "pythondata"
  },
  "language_info": {
   "codemirror_mode": {
    "name": "ipython",
    "version": 3
   },
   "file_extension": ".py",
   "mimetype": "text/x-python",
   "name": "python",
   "nbconvert_exporter": "python",
   "pygments_lexer": "ipython3",
   "version": "3.7.10"
  }
 },
 "nbformat": 4,
 "nbformat_minor": 5
}
